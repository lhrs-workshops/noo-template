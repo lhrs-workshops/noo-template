{
 "cells": [
  {
   "cell_type": "markdown",
   "id": "45018217",
   "metadata": {},
   "source": [
    "# ✨ Delavnica NOO"
   ]
  },
  {
   "cell_type": "markdown",
   "id": "8b6541ec",
   "metadata": {},
   "source": [
    "## 📄 O dokumentu\n",
    "\n",
    "Ta zvezek je delavnica, ki vključuje praktične naloge iz programiranja v Pythonu ter teoretična vprašanja za preverjanje razumevanja snovi.\n",
    "\n",
    "### 🔍 Kaj vsebuje ta dokument:\n",
    "- ✏️ Dve funkciji, ki ju mora študent implementirati (`square(x)` in `is_even(n)`)\n",
    "- ✅ Enostavne testne primere za preverjanje delovanja funkcij\n",
    "- 📚 Dve teoretični vprašanji z več možnimi odgovori (MCQ)\n",
    "- 💾 Navodila za izvoz odgovorov v datoteko `odgovori.json`\n",
    "- 📋 Preverjanje, ali je datoteka pravilno ustvarjena in v veljavnem formatu\n",
    "\n",
    "---\n",
    "\n",
    "### 🧑‍💻 Kako poteka reševanje naloge:\n",
    "\n",
    "1. Implementiraj manjkajočo logiko v funkcijah `square(x)` in `is_even(n)`.\n",
    "2. Za vsako funkcijo zaženi pripadajoče preproste teste in preveri, ali funkcija vrača pravilne rezultate.\n",
    "3. Odgovori na teoretična vprašanja z izbiro ene izmed ponujenih možnosti (radio gumbi).\n",
    "4. Ko končaš z odgovori, zaženi celico za izvoz — odgovori bodo shranjeni v datoteko `odgovori.json`.\n",
    "5. Na koncu zaženi celico za preverjanje, ki ti pove, ali je datoteka pravilno ustvarjena.\n",
    "6. Pred oddajo preveri, da je vse brez napak.\n",
    "\n",
    "📤 Pri oddaji na GitHub Classroom priloži:\n",
    "- ta `.ipynb` zvezek\n",
    "- datoteko `odgovori.json`\n",
    "\n",
    "Srečno! 🚀\n"
   ]
  },
  {
   "cell_type": "markdown",
   "id": "97ac13b1",
   "metadata": {},
   "source": [
    "## 🔧 Funkcija 1: square(x)"
   ]
  },
  {
   "cell_type": "code",
   "execution_count": null,
   "id": "9854db0e",
   "metadata": {},
   "outputs": [],
   "source": [
    "# To je izsek kodo, ki ga morajo študenti dopolniti\n",
    "def square(x):\n",
    "    return x * x"
   ]
  },
  {
   "cell_type": "code",
   "execution_count": null,
   "id": "590b25a9",
   "metadata": {},
   "outputs": [],
   "source": [
    "# To so preprosti testi, ki niso namenjeni ocenjevanju (lahko so, ampak uradni testi so zapisani v datoteki `test_code.py`)\n",
    "def run_test_square(input_val, expected):\n",
    "    try:\n",
    "        result = square(input_val)\n",
    "        status = \"✅ PASS\" if result == expected else \"❌ FAIL\"\n",
    "        print(f\"{status}: square({input_val}) → {result} (expected: {expected})\")\n",
    "    except Exception as e:\n",
    "        print(f\"❌ ERROR: square({input_val}) raised an exception: {e}\")\n",
    "\n",
    "# Unit tests for square()\n",
    "run_test_square(2, 4)\n",
    "run_test_square(4, 16)\n",
    "run_test_square(17, 289)"
   ]
  },
  {
   "cell_type": "markdown",
   "id": "be35991e",
   "metadata": {},
   "source": [
    "## 🔧 Funkcija 2: is_even(n)"
   ]
  },
  {
   "cell_type": "markdown",
   "id": "854ec98f",
   "metadata": {},
   "source": [
    "Kratek opis funkcije 2"
   ]
  },
  {
   "cell_type": "code",
   "execution_count": null,
   "id": "39c7e0ea",
   "metadata": {},
   "outputs": [],
   "source": [
    "# To je izsek kodo, ki ga morajo študenti dopolniti\n",
    "def is_even(n):\n",
    "    return n % 2 == 0"
   ]
  },
  {
   "cell_type": "code",
   "execution_count": null,
   "id": "9ecba4f5",
   "metadata": {},
   "outputs": [],
   "source": [
    "# To so preprosti testi, ki niso namenjeni ocenjevanju (lahko so, ampak uradni testi so zapisani v datoteki `test_code.py`)\n",
    "def run_test_isEven(input_val, expected):\n",
    "    try:\n",
    "        result = is_even(input_val)\n",
    "        status = \"✅ PASS\" if result == expected else \"❌ FAIL\"\n",
    "        print(f\"{status}: is_even({input_val}) → {result} (expected: {expected})\")\n",
    "    except Exception as e:\n",
    "        print(f\"❌ ERROR: is_even({input_val}) raised an exception: {e}\")\n",
    "\n",
    "# Unit tests for is_even()\n",
    "run_test_isEven(2, True)\n",
    "run_test_isEven(3, False)\n",
    "run_test_isEven(17, False)"
   ]
  },
  {
   "cell_type": "markdown",
   "id": "99d8640d",
   "metadata": {
    "transient": {
     "remove_source": true
    }
   },
   "source": [
    "## 📚 Teoretična vprašanja"
   ]
  },
  {
   "cell_type": "markdown",
   "id": "9f8d92f3",
   "metadata": {},
   "source": [
    "Spodaj se nahajajo teoretična vprašanja z več možnimi odgovori.\n",
    "- Prva celica vsebuje definicije vprašanj ter ukaz za njihov prikaz. Ko jo študent izvede, se prikažejo interaktivni izbirniki z možnimi odgovori.\n",
    "- Študent naj na vsa vprašanja odgovori z izbiro ene izmed možnosti.\n",
    "- Ko je z odgovori zadovoljen, naj izvede naslednjo celico, ki:\n",
    "    - prikaže seznam izbranih odgovorov,\n",
    "    - shrani rezultate v datoteko odgovori.json, ki bo uporabljena pri samodejnem preverjanju odgovorov.\n",
    "\n",
    "✅ Pomembno: Ne pozabi potrditi vseh odgovorov in izvesti celice za izvoz pred oddajo naloge!"
   ]
  },
  {
   "cell_type": "code",
   "execution_count": null,
   "id": "59613e22",
   "metadata": {},
   "outputs": [],
   "source": [
    "import ipywidgets as widgets\n",
    "from IPython.display import display\n",
    "\n",
    "# Define the questions\n",
    "q1 = widgets.RadioButtons(\n",
    "    options=['A) A prime number', 'B) An even number', 'C) A float', 'D) None of the above'],\n",
    "    description='Which number is only devided by it\\' self and number 1?:',\n",
    "    layout={'width': 'max-content'}\n",
    ")\n",
    "q2 = widgets.RadioButtons(\n",
    "    options=['A) 2', 'B) 4', 'C) 1', 'D) 0'],\n",
    "    description='Which number is NOT even?:',\n",
    "    layout={'width': 'max-content'}\n",
    ")\n",
    "\n",
    "# Show all questions\n",
    "display(q1, q2)\n"
   ]
  },
  {
   "cell_type": "markdown",
   "id": "e86cf42e",
   "metadata": {},
   "source": [
    "\n",
    "---\n",
    "\n",
    "💾 Shrani rezultate\n",
    "Ko zaključiš z odgovori na vsa vprašanja, izvedi spodnjo celico, ki bo:\n",
    "- 🖊️ izpisala tvoje izbrane odgovore,\n",
    "- 💾 shranila jih v datoteko odgovori.json.\n",
    "\n",
    "📤 Pomembno:\n",
    "To datoteko moraš obvezno priložiti ob oddaji naloge, saj se uporablja za samodejno preverjanje odgovorov.\n",
    "\n",
    "✅ Ne pozabi zagnati te celice pred oddajo!"
   ]
  },
  {
   "cell_type": "code",
   "execution_count": null,
   "id": "36dad5b4",
   "metadata": {},
   "outputs": [],
   "source": [
    "import skripte.shranirezultate\n",
    "skripte.shranirezultate.shrani(q1.value, q2.value)"
   ]
  },
  {
   "cell_type": "markdown",
   "id": "b10a8c04",
   "metadata": {},
   "source": [
    "\n",
    "---\n",
    "\n",
    "Zaključek!!! ✅✅✅✅✅✅✅✅✅✅✅✅✅✅✅"
   ]
  },
  {
   "cell_type": "markdown",
   "id": "8616c97c",
   "metadata": {},
   "source": []
  }
 ],
 "metadata": {
  "kernelspec": {
   "display_name": "Python 3",
   "language": "python",
   "name": "python3"
  },
  "language_info": {
   "codemirror_mode": {
    "name": "ipython",
    "version": 3
   },
   "file_extension": ".py",
   "mimetype": "text/x-python",
   "name": "python",
   "nbconvert_exporter": "python",
   "pygments_lexer": "ipython3",
   "version": "3.12.4"
  }
 },
 "nbformat": 4,
 "nbformat_minor": 5
}
